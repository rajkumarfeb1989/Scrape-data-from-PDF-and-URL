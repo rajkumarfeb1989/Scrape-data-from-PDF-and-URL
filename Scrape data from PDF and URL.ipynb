{
 "cells": [
  {
   "cell_type": "code",
   "execution_count": 1,
   "metadata": {},
   "outputs": [],
   "source": [
    "# URL from which pdfs to be downloaded\n",
    "url = \"https://usrbrands.com/products/c19r-29-single-solid-door-narrow-depth-reach-in-refrigerator?_pos=1&_sid=c851f596b&_ss=r\""
   ]
  },
  {
   "cell_type": "code",
   "execution_count": 2,
   "metadata": {},
   "outputs": [],
   "source": [
    "manufacturer = 'Coldline'\n",
    "sku          = 'C12R'\n",
    "prod_type    = 'Reach-In Refrigerator'\n",
    "cost         = 1415\n",
    "family       = 'Refrigeration' # Equipment"
   ]
  },
  {
   "cell_type": "code",
   "execution_count": 3,
   "metadata": {},
   "outputs": [
    {
     "name": "stdout",
     "output_type": "stream",
     "text": [
      "<h4>The Coldline C12R Reach-In Refrigerator</h4>\n",
      "<p>The narrow 25\" depth stainless steel reach-in commercial refrigerator is perfect for small restaurants, delis, or bakeries, cafes. With a spacious cabinet and adjustable shelves, the unit can still fit in narrow hallways, upstairs, or small kitchens. The 1/5 HP compressor provides plenty of power for hot kitchens. The bottom mount raises the bottom shelf for easier access. With lockable wheels, door locks, digital temperature control, and coated corrosion resistant shelves, it has all of the features of more expensive commercial units at a reasonable price.</p>\n"
     ]
    }
   ],
   "source": [
    "import requests\n",
    "from bs4 import BeautifulSoup\n",
    "# Requests URL and get response object\n",
    "response = requests.get(url)\n",
    "# Parse text obtained\n",
    "soup = BeautifulSoup(response.text, 'html.parser')\n",
    "desc_txt = soup.find(class_='product-meta__description rte').text\n",
    "desc_txt = desc_txt.replace('\\n','')\n",
    "desc_txt = desc_txt.strip()\n",
    "\n",
    "# get Description field\n",
    "Description = '<h4>The ' + manufacturer + ' ' + sku + ' ' + prod_type + '</h4>\\n<p>' + desc_txt + '</p>'\n",
    "print(Description)"
   ]
  },
  {
   "cell_type": "code",
   "execution_count": 4,
   "metadata": {},
   "outputs": [
    {
     "name": "stdout",
     "output_type": "stream",
     "text": [
      "Downloading file:  1\n",
      "All PDF files downloaded\n"
     ]
    }
   ],
   "source": [
    "# download all pdfs\n",
    "import requests\n",
    "from bs4 import BeautifulSoup\n",
    "# Requests URL and get response object\n",
    "response = requests.get(url)\n",
    "# Parse text obtained\n",
    "soup = BeautifulSoup(response.text, 'html.parser')\n",
    "# Find all hyperlinks present on webpage\n",
    "links = soup.find_all('a')\n",
    "i = 0\n",
    "# From all links check for pdf link and\n",
    "# if present download file\n",
    "for link in links:\n",
    "    if ('.pdf' in link.get('href', [])):\n",
    "        i += 1\n",
    "        print(\"Downloading file: \", i)\n",
    "  \n",
    "        # Get response object for link\n",
    "        response = requests.get(link.get('href'))\n",
    "        url_link = link.get('href')\n",
    "        \n",
    "        # Write content in pdf file\n",
    "        pdf = open(\"pdf\"+str(i)+\".pdf\", 'wb')\n",
    "        pdf.write(response.content)\n",
    "        pdf.close()\n",
    "        break\n",
    "        print(\"File \", i, \" downloaded\")\n",
    "for link in links:\n",
    "    if ('.jpg' in link.get('href', [])):\n",
    "        img1_link = link.get('href')\n",
    "        break\n",
    "print(\"All PDF files downloaded\")"
   ]
  },
  {
   "cell_type": "code",
   "execution_count": 5,
   "metadata": {},
   "outputs": [
    {
     "name": "stderr",
     "output_type": "stream",
     "text": [
      "PdfReadWarning: Xref table not zero-indexed. ID numbers for objects will be corrected. [pdf.py:1801]\n"
     ]
    },
    {
     "data": {
      "text/plain": [
       "'<ul>\\n  <li>Stainless steel exterior and interior</li>\\n  <li>Aluminum back</li>\\n  <li>Narrow Depth</li>\\n  <li>Refrigeration system keeps food at safe temperatures</li>\\n  <li>Selfclosing doors with 90 degree stayopen feature</li>\\n  <li>Locks and keys included</li>\\n  <li>Adjustable heavyduty PVC coated shelves</li>\\n  <li>Recessed door handle</li>\\n  <li>Electronic control system</li>\\n  <li>Preinstalled heavyduty casters with brakes</li>\\n  <li>Removable installation board </li>\\n  <li>HydroCarbon R290 refrigerant</li>\\n</ul>'"
      ]
     },
     "execution_count": 5,
     "metadata": {},
     "output_type": "execute_result"
    }
   ],
   "source": [
    "# get features\n",
    "import PyPDF4\n",
    "import re\n",
    "file_path = 'pdf1.pdf'\n",
    "#file_path = 'c19r-specsheet.pdf'\n",
    "\n",
    "with open(file_path, mode='rb') as f:\n",
    "    reader = PyPDF4.PdfFileReader(f)\n",
    "    page = reader.getPage(0)\n",
    "    txt = page.extractText()\n",
    "f.close() \n",
    "cleanString = re.sub('[^A-Za-z0-9 \\n]+', '', txt)\n",
    "new_txt = re.split('\\n',cleanString)\n",
    "new_txt = new_txt[3:-17]\n",
    "new_txt2 = [x for x in new_txt if len(x)>1]\n",
    "\n",
    "# convert in required html format\n",
    "features = '<ul>\\n'\n",
    "for i in range(len(new_txt2)):\n",
    "    features += '  <li>' + new_txt2[i] + '</li>\\n'\n",
    "features += '</ul>'\n",
    "\n",
    "# write it to a file\n",
    "#f = open('new_file.txt','w')\n",
    "#f.write(features)\n",
    "#f.close()\n",
    "\n",
    "# print features\n",
    "features"
   ]
  },
  {
   "cell_type": "code",
   "execution_count": 6,
   "metadata": {},
   "outputs": [
    {
     "name": "stdout",
     "output_type": "stream",
     "text": [
      "Coldline C19R 29\" Single Solid Door Narrow Depth Reach-In Refrigerator\n"
     ]
    }
   ],
   "source": [
    "title_txt = re.split('\\n',txt)\n",
    "title = title_txt[0]\n",
    "title = title.replace('ﬂ','\\\"')\n",
    "title = manufacturer + ' ' + title\n",
    "print(title)"
   ]
  },
  {
   "cell_type": "code",
   "execution_count": 7,
   "metadata": {},
   "outputs": [
    {
     "name": "stderr",
     "output_type": "stream",
     "text": [
      "Got stderr: Dec 30, 2021 12:19:00 PM org.apache.pdfbox.contentstream.PDFStreamEngine operatorException\r\n",
      "SEVERE: Cannot read JPEG2000 image: Java Advanced Imaging (JAI) Image I/O Tools are not installed\r\n",
      "\n"
     ]
    }
   ],
   "source": [
    "# Read tables\n",
    "import tabula\n",
    "import pandas as pd\n",
    "file_path = 'pdf1.pdf'\n",
    "\n",
    "# area [top,left,bottom,right]\n",
    "read_pdf_dfs = tabula.read_pdf(file_path, pages=2, area=[10,0,750,315])[0]\n",
    "read_pdf_dfs.columns = ['col1','col2']\n",
    "# read_pdf_dfs\n",
    "\n",
    "for i in range(2,len(read_pdf_dfs)):\n",
    "    if pd.isna(read_pdf_dfs.col2[i]):\n",
    "        df1 = pd.DataFrame(read_pdf_dfs.iloc[:i,])\n",
    "        df1.dropna(inplace=True)\n",
    "        df2 = pd.DataFrame(read_pdf_dfs.iloc[i:,])\n",
    "        df2.dropna(inplace=True)\n",
    "        break\n",
    "    else:\n",
    "        pass"
   ]
  },
  {
   "cell_type": "code",
   "execution_count": 8,
   "metadata": {},
   "outputs": [
    {
     "name": "stdout",
     "output_type": "stream",
     "text": [
      "<table>\n",
      "<tbody>\n",
      "<tr>\n",
      "<td>Exterior Dimensions</td>\n",
      "<td>29”W x 25.4”D x 81.5”H</td>\n",
      "</tr>\n",
      "<tr>\n",
      "<td>Interior Dimensions</td>\n",
      "<td>24.4”W x 20.4”D x 60.3”H</td>\n",
      "</tr>\n",
      "<tr>\n",
      "<td>Packaging Dimensions</td>\n",
      "<td>30.3”W x 27.5”D x 85.5”H</td>\n",
      "</tr>\n",
      "<tr>\n",
      "<td>Net Volume</td>\n",
      "<td>19 cu. ft.</td>\n",
      "</tr>\n",
      "<tr>\n",
      "<td>Unit Weight</td>\n",
      "<td>282 lb.</td>\n",
      "</tr>\n",
      "<tr>\n",
      "<td>Shipping Weight</td>\n",
      "<td>308 lb.</td>\n",
      "</tr>\n",
      "</tbody>\n",
      "</table>\n"
     ]
    }
   ],
   "source": [
    "# convert Dimensions in required html format\n",
    "Dimensions = '<table>\\n<tbody>\\n'\n",
    "#print(Dimensions)\n",
    "for i in range(len(df1)):\n",
    "    #print('index = ',i)\n",
    "    Dimensions += '<tr>\\n<td>'\n",
    "    Dimensions += df1.iloc[i:i+1,0].to_string(header=False, index=False) + '</td>\\n'\n",
    "    #print(Dimensions)\n",
    "    Dimensions += '<td>' + df1.iloc[i:i+1,1].to_string(header=False, index=False) + '</td>'\n",
    "    #print(Dimensions)\n",
    "    Dimensions += '\\n</tr>\\n'\n",
    "    #print(Dimensions)\n",
    "    \n",
    "Dimensions += '</tbody>\\n</table>'\n",
    "print(Dimensions)"
   ]
  },
  {
   "cell_type": "code",
   "execution_count": 9,
   "metadata": {},
   "outputs": [],
   "source": [
    "# Width and Cubic Feet\n",
    "if family=='Refrigeration':\n",
    "    width = df1.col2.iloc[0].split('W')[0]\n",
    "    CubicFeet = df1.col2[df1.col1=='Net Volume'].values[0]\n",
    "else:\n",
    "    width = ''\n",
    "    CubicFeet = ''"
   ]
  },
  {
   "cell_type": "code",
   "execution_count": 10,
   "metadata": {
    "scrolled": true
   },
   "outputs": [
    {
     "name": "stdout",
     "output_type": "stream",
     "text": [
      "<table>\n",
      "<tbody>\n",
      "<tr>\n",
      "<td>Voltage</td>\n",
      "<td>115</td>\n",
      "</tr>\n",
      "<tr>\n",
      "<td>Hertz</td>\n",
      "<td>60</td>\n",
      "</tr>\n",
      "<tr>\n",
      "<td>Phase</td>\n",
      "<td>1</td>\n",
      "</tr>\n",
      "<tr>\n",
      "<td>Amps</td>\n",
      "<td>2.8</td>\n",
      "</tr>\n",
      "<tr>\n",
      "<td>Plug Type</td>\n",
      "<td>NEMA 5-15P</td>\n",
      "</tr>\n",
      "<tr>\n",
      "<td>Power Cord Length</td>\n",
      "<td>96”</td>\n",
      "</tr>\n",
      "<tr>\n",
      "<td>Temperature Range</td>\n",
      "<td>33°F to 41°F</td>\n",
      "</tr>\n",
      "<tr>\n",
      "<td>Refrigerant</td>\n",
      "<td>R290</td>\n",
      "</tr>\n",
      "<tr>\n",
      "<td>Max. Ambient Temp</td>\n",
      "<td>90°F</td>\n",
      "</tr>\n",
      "<tr>\n",
      "<td>Defrosting</td>\n",
      "<td>Automatic</td>\n",
      "</tr>\n",
      "<tr>\n",
      "<td>Temperature Controller</td>\n",
      "<td>Digital</td>\n",
      "</tr>\n",
      "<tr>\n",
      "<td>Horsepower</td>\n",
      "<td>1/5</td>\n",
      "</tr>\n",
      "<tr>\n",
      "<td>Exterior Material</td>\n",
      "<td>430  Stainless Steel</td>\n",
      "</tr>\n",
      "<tr>\n",
      "<td>Interior Material</td>\n",
      "<td>430 Stainless Steel</td>\n",
      "</tr>\n",
      "<tr>\n",
      "<td>Insulation Material</td>\n",
      "<td>Foamed-in-Place Polyurethane</td>\n",
      "</tr>\n",
      "<tr>\n",
      "<td>Shelf Size</td>\n",
      "<td>3 Qty: 23.4”W x 19.4”D</td>\n",
      "</tr>\n",
      "<tr>\n",
      "<td>Shelf Material</td>\n",
      "<td>Epoxy Coated Wire</td>\n",
      "</tr>\n",
      "<tr>\n",
      "<td>Shelf Load Capacity</td>\n",
      "<td>90 lb.</td>\n",
      "</tr>\n",
      "<tr>\n",
      "<td>Adjustable Shelf</td>\n",
      "<td>Yes</td>\n",
      "</tr>\n",
      "<tr>\n",
      "<td>Interior Light</td>\n",
      "<td>L.E.D</td>\n",
      "</tr>\n",
      "<tr>\n",
      "<td>Mobility Wheels/Casters</td>\n",
      "<td>(4) Qty: 2 with brakes, 2 without</td>\n",
      "</tr>\n",
      "</tbody>\n",
      "</table>\n"
     ]
    }
   ],
   "source": [
    "# convert Specifications in required html format\n",
    "Specifications = '<table>\\n<tbody>\\n'\n",
    "#print(Dimensions)\n",
    "for i in range(len(df2)):\n",
    "    #print('index = ',i)\n",
    "    Specifications += '<tr>\\n<td>'\n",
    "    Specifications += df2.iloc[i:i+1,0].to_string(header=False, index=False) + '</td>\\n'\n",
    "    #print(Dimensions)\n",
    "    Specifications += '<td>' + df2.iloc[i:i+1,1].to_string(header=False, index=False) + '</td>'\n",
    "    #print(Dimensions)\n",
    "    Specifications += '\\n</tr>\\n'\n",
    "    #print(Dimensions)\n",
    "    \n",
    "Specifications += '</tbody>\\n</table>'\n",
    "print(Specifications)"
   ]
  },
  {
   "cell_type": "code",
   "execution_count": 12,
   "metadata": {},
   "outputs": [],
   "source": [
    "# store all info in a dataframe\n",
    "my_df = pd.DataFrame(columns = ['manufacturer','SKU','Cost','markup','ListPrice','Kitchenall price','Title','Product Type',\n",
    "                                'Family','Description','Features','Dimensions','Certifications','Specifications',\n",
    "                                'productImage1','productImage2','productImage3','productImage4','productImage5','Video 1',\n",
    "                                'Spec Sheet','Manual','Width','Cubic Feet'])\n",
    "my_df.loc[len(my_df)] = [manufacturer,sku,cost,1.3*cost,'','',title,prod_type,family,Description,features,Dimensions,\n",
    "                         'cETLus, ETLsan, Plug: NEMA 5-15P',Specifications,img1_link,'','','','','',url_link,'',width,CubicFeet]\n",
    "\n",
    "excel_df = pd.read_excel('outputfile.xlsx')\n",
    "excel_df = excel_df.append(my_df, ignore_index=True)\n",
    "excel_df.to_excel('outputfile.xlsx',index=False)"
   ]
  },
  {
   "cell_type": "code",
   "execution_count": null,
   "metadata": {},
   "outputs": [],
   "source": []
  },
  {
   "cell_type": "markdown",
   "metadata": {},
   "source": [
    "# extract pdf sketches on page 2"
   ]
  },
  {
   "cell_type": "code",
   "execution_count": 13,
   "metadata": {},
   "outputs": [],
   "source": [
    "# convert 2nd pdf page to image\n",
    "\n",
    "# require poppler (download, extract and mention path into variable poppler_path) \n",
    "from pdf2image import convert_from_path\n",
    "images = convert_from_path(\"pdf1.pdf\", 500,poppler_path=r'C:\\Users\\Sanghavi\\Desktop\\upwork\\Abe soskil, The Better Group LLC\\poppler-0.68.0\\bin')\n",
    "images[1].save('pdf_full_pg2.png', \"PNG\") # need only 2nd page to save\n",
    "\n",
    "# other solution (don't have control on image quality)\n",
    "#import fitz\n",
    "## read the page\n",
    "#pdffile = \"pdf1.pdf\"\n",
    "#doc = fitz.open(pdffile)\n",
    "#page = doc.loadPage(1)  # number of page\n",
    "#pix = page.get_pixmap()\n",
    "#output = \"new_pic.png\"\n",
    "#pix.save(output)"
   ]
  },
  {
   "cell_type": "code",
   "execution_count": 14,
   "metadata": {},
   "outputs": [
    {
     "name": "stdout",
     "output_type": "stream",
     "text": [
      "(5500, 4250, 3)\n"
     ]
    },
    {
     "data": {
      "text/plain": [
       "True"
      ]
     },
     "execution_count": 14,
     "metadata": {},
     "output_type": "execute_result"
    }
   ],
   "source": [
    "# split image to get right side part\n",
    "\n",
    "import cv2   \n",
    "# Read the image\n",
    "img = cv2.imread('pdf_full_pg2.png')\n",
    "print(img.shape)\n",
    "height = img.shape[0]\n",
    "width = img.shape[1]\n",
    "# Cut the image in half\n",
    "width_cutoff = int(width / 2)\n",
    "s1 = img[:, :width_cutoff]\n",
    "s2 = img[int(height//6.5):int(height//1.07), width_cutoff:]\n",
    "#cv2.imwrite(\"new_pic1.png\", s1)\n",
    "cv2.imwrite(\"pdf_sketch.png\", s2)"
   ]
  },
  {
   "cell_type": "code",
   "execution_count": null,
   "metadata": {},
   "outputs": [],
   "source": []
  },
  {
   "cell_type": "code",
   "execution_count": null,
   "metadata": {},
   "outputs": [],
   "source": []
  },
  {
   "cell_type": "code",
   "execution_count": null,
   "metadata": {},
   "outputs": [],
   "source": []
  },
  {
   "cell_type": "code",
   "execution_count": null,
   "metadata": {},
   "outputs": [],
   "source": []
  },
  {
   "cell_type": "code",
   "execution_count": null,
   "metadata": {},
   "outputs": [],
   "source": []
  },
  {
   "cell_type": "code",
   "execution_count": null,
   "metadata": {},
   "outputs": [],
   "source": []
  },
  {
   "cell_type": "code",
   "execution_count": null,
   "metadata": {},
   "outputs": [],
   "source": []
  }
 ],
 "metadata": {
  "kernelspec": {
   "display_name": "myImageKernel",
   "language": "python",
   "name": "myimagekernel"
  },
  "language_info": {
   "codemirror_mode": {
    "name": "ipython",
    "version": 3
   },
   "file_extension": ".py",
   "mimetype": "text/x-python",
   "name": "python",
   "nbconvert_exporter": "python",
   "pygments_lexer": "ipython3",
   "version": "3.7.4"
  }
 },
 "nbformat": 4,
 "nbformat_minor": 2
}
